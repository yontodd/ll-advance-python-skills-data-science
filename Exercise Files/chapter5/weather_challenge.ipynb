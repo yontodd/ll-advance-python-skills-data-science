{
 "cells": [
  {
   "cell_type": "code",
   "execution_count": 1,
   "metadata": {},
   "outputs": [],
   "source": [
    "import math\n",
    "import collections\n",
    "import urllib\n",
    "\n",
    "import numpy as np\n",
    "import pandas as pd\n",
    "import matplotlib.pyplot as pp\n",
    "\n",
    "%matplotlib inline"
   ]
  },
  {
   "cell_type": "code",
   "execution_count": 4,
   "metadata": {},
   "outputs": [],
   "source": [
    "import getweather\n",
    "\n",
    "def smooth(array, window=10, mode='valid'):\n",
    "    return np.correlate(array, np.ones(window)/window, mode)"
   ]
  },
  {
   "cell_type": "code",
   "execution_count": 5,
   "metadata": {},
   "outputs": [
    {
     "name": "stderr",
     "output_type": "stream",
     "text": [
      "/tmp/ipykernel_8624/4260209024.py:3: FutureWarning: arrays to stack must be passed as a \"sequence\" type such as list or tuple. Support for non-sequence iterables such as generators is deprecated as of NumPy 1.16 and will raise an error in the future.\n",
      "  alldata = np.vstack((getweather.getyear(station, ['TMIN','TMAX'], year)\n"
     ]
    },
    {
     "ename": "KeyError",
     "evalue": "\"['TMIN', 'TMAX'] not in index\"",
     "output_type": "error",
     "traceback": [
      "\u001b[0;31m---------------------------------------------------------------------------\u001b[0m",
      "\u001b[0;31mKeyError\u001b[0m                                  Traceback (most recent call last)",
      "Cell \u001b[0;32mIn[5], line 3\u001b[0m\n\u001b[1;32m      1\u001b[0m station \u001b[39m=\u001b[39m \u001b[39m\"\u001b[39m\u001b[39mNEW YORK\u001b[39m\u001b[39m\"\u001b[39m\n\u001b[1;32m      2\u001b[0m allyears \u001b[39m=\u001b[39m np\u001b[39m.\u001b[39marange(\u001b[39m1880\u001b[39m, \u001b[39m2020\u001b[39m)\n\u001b[0;32m----> 3\u001b[0m alldata \u001b[39m=\u001b[39m np\u001b[39m.\u001b[39;49mvstack((getweather\u001b[39m.\u001b[39;49mgetyear(station, [\u001b[39m'\u001b[39;49m\u001b[39mTMIN\u001b[39;49m\u001b[39m'\u001b[39;49m,\u001b[39m'\u001b[39;49m\u001b[39mTMAX\u001b[39;49m\u001b[39m'\u001b[39;49m], year)\n\u001b[1;32m      4\u001b[0m                      \u001b[39mfor\u001b[39;49;00m year \u001b[39min\u001b[39;49;00m allyears))\n",
      "File \u001b[0;32m<__array_function__ internals>:200\u001b[0m, in \u001b[0;36mvstack\u001b[0;34m(*args, **kwargs)\u001b[0m\n",
      "File \u001b[0;32m~/.local/lib/python3.10/site-packages/numpy/core/shape_base.py:293\u001b[0m, in \u001b[0;36mvstack\u001b[0;34m(tup, dtype, casting)\u001b[0m\n\u001b[1;32m    290\u001b[0m \u001b[39mif\u001b[39;00m \u001b[39mnot\u001b[39;00m overrides\u001b[39m.\u001b[39mARRAY_FUNCTION_ENABLED:\n\u001b[1;32m    291\u001b[0m     \u001b[39m# raise warning if necessary\u001b[39;00m\n\u001b[1;32m    292\u001b[0m     _arrays_for_stack_dispatcher(tup, stacklevel\u001b[39m=\u001b[39m\u001b[39m2\u001b[39m)\n\u001b[0;32m--> 293\u001b[0m arrs \u001b[39m=\u001b[39m atleast_2d(\u001b[39m*\u001b[39;49mtup)\n\u001b[1;32m    294\u001b[0m \u001b[39mif\u001b[39;00m \u001b[39mnot\u001b[39;00m \u001b[39misinstance\u001b[39m(arrs, \u001b[39mlist\u001b[39m):\n\u001b[1;32m    295\u001b[0m     arrs \u001b[39m=\u001b[39m [arrs]\n",
      "Cell \u001b[0;32mIn[5], line 3\u001b[0m, in \u001b[0;36m<genexpr>\u001b[0;34m(.0)\u001b[0m\n\u001b[1;32m      1\u001b[0m station \u001b[39m=\u001b[39m \u001b[39m\"\u001b[39m\u001b[39mNEW YORK\u001b[39m\u001b[39m\"\u001b[39m\n\u001b[1;32m      2\u001b[0m allyears \u001b[39m=\u001b[39m np\u001b[39m.\u001b[39marange(\u001b[39m1880\u001b[39m, \u001b[39m2020\u001b[39m)\n\u001b[0;32m----> 3\u001b[0m alldata \u001b[39m=\u001b[39m np\u001b[39m.\u001b[39mvstack((getweather\u001b[39m.\u001b[39;49mgetyear(station, [\u001b[39m'\u001b[39;49m\u001b[39mTMIN\u001b[39;49m\u001b[39m'\u001b[39;49m,\u001b[39m'\u001b[39;49m\u001b[39mTMAX\u001b[39;49m\u001b[39m'\u001b[39;49m], year)\n\u001b[1;32m      4\u001b[0m                      \u001b[39mfor\u001b[39;00m year \u001b[39min\u001b[39;00m allyears))\n",
      "File \u001b[0;32m/workspaces/ll-advance-python-skills-data-science/Exercise Files/chapter5/getweather.py:173\u001b[0m, in \u001b[0;36mgetyear\u001b[0;34m(station_name, elements, year)\u001b[0m\n\u001b[1;32m    164\u001b[0m \u001b[39mdef\u001b[39;00m \u001b[39mgetyear\u001b[39m(station_name, elements, year):\n\u001b[1;32m    165\u001b[0m \u001b[39m    \u001b[39m\u001b[39m\"\"\"Make a NumPy record array of length 365, containing weather data\u001b[39;00m\n\u001b[1;32m    166\u001b[0m \u001b[39m    at station_name for the list of requested elements (TMIN/TMAX/PRCP/SNOW),\u001b[39;00m\n\u001b[1;32m    167\u001b[0m \u001b[39m    restricted to year.\u001b[39;00m\n\u001b[0;32m   (...)\u001b[0m\n\u001b[1;32m    170\u001b[0m \u001b[39m    with station_name, but give precedence to HCN and GSN stations.\u001b[39;00m\n\u001b[1;32m    171\u001b[0m \u001b[39m    \"\"\"\u001b[39;00m\n\u001b[0;32m--> 173\u001b[0m     alldata \u001b[39m=\u001b[39m getdata(station_name)\n\u001b[1;32m    175\u001b[0m     \u001b[39m# select data by year, and get rid of the extra day in leap years\u001b[39;00m\n\u001b[1;32m    176\u001b[0m     \u001b[39m# then pick out the \"element\" column\u001b[39;00m\n\u001b[1;32m    177\u001b[0m     yeardata \u001b[39m=\u001b[39m alldata[(alldata\u001b[39m.\u001b[39mindex\u001b[39m.\u001b[39myear \u001b[39m==\u001b[39m year) \u001b[39m&\u001b[39m (alldata\u001b[39m.\u001b[39mindex\u001b[39m.\u001b[39mdayofyear \u001b[39m<\u001b[39m \u001b[39m366\u001b[39m)]\n",
      "File \u001b[0;32m/workspaces/ll-advance-python-skills-data-science/Exercise Files/chapter5/getweather.py:154\u001b[0m, in \u001b[0;36mgetdata\u001b[0;34m(station_name)\u001b[0m\n\u001b[1;32m    152\u001b[0m pw \u001b[39m=\u001b[39m pw\u001b[39m.\u001b[39mpivot(index\u001b[39m=\u001b[39m\u001b[39m'\u001b[39m\u001b[39mdate\u001b[39m\u001b[39m'\u001b[39m, columns\u001b[39m=\u001b[39m\u001b[39m'\u001b[39m\u001b[39melement\u001b[39m\u001b[39m'\u001b[39m)[\u001b[39m'\u001b[39m\u001b[39mvalue\u001b[39m\u001b[39m'\u001b[39m]\n\u001b[1;32m    153\u001b[0m pw\u001b[39m.\u001b[39mcolumns\u001b[39m.\u001b[39mname \u001b[39m=\u001b[39m \u001b[39mNone\u001b[39;00m    \n\u001b[0;32m--> 154\u001b[0m pw \u001b[39m=\u001b[39m pw[[\u001b[39m'\u001b[39;49m\u001b[39mTMIN\u001b[39;49m\u001b[39m'\u001b[39;49m,\u001b[39m'\u001b[39;49m\u001b[39mTMAX\u001b[39;49m\u001b[39m'\u001b[39;49m,\u001b[39m'\u001b[39;49m\u001b[39mPRCP\u001b[39;49m\u001b[39m'\u001b[39;49m,\u001b[39m'\u001b[39;49m\u001b[39mSNOW\u001b[39;49m\u001b[39m'\u001b[39;49m]]\n\u001b[1;32m    156\u001b[0m \u001b[39m# last, convert temperatures to degrees\u001b[39;00m\n\u001b[1;32m    157\u001b[0m pw[\u001b[39m'\u001b[39m\u001b[39mTMIN\u001b[39m\u001b[39m'\u001b[39m] \u001b[39m/\u001b[39m\u001b[39m=\u001b[39m \u001b[39m10.0\u001b[39m\n",
      "File \u001b[0;32m~/.local/lib/python3.10/site-packages/pandas/core/frame.py:3813\u001b[0m, in \u001b[0;36mDataFrame.__getitem__\u001b[0;34m(self, key)\u001b[0m\n\u001b[1;32m   3811\u001b[0m     \u001b[39mif\u001b[39;00m is_iterator(key):\n\u001b[1;32m   3812\u001b[0m         key \u001b[39m=\u001b[39m \u001b[39mlist\u001b[39m(key)\n\u001b[0;32m-> 3813\u001b[0m     indexer \u001b[39m=\u001b[39m \u001b[39mself\u001b[39;49m\u001b[39m.\u001b[39;49mcolumns\u001b[39m.\u001b[39;49m_get_indexer_strict(key, \u001b[39m\"\u001b[39;49m\u001b[39mcolumns\u001b[39;49m\u001b[39m\"\u001b[39;49m)[\u001b[39m1\u001b[39m]\n\u001b[1;32m   3815\u001b[0m \u001b[39m# take() does not accept boolean indexers\u001b[39;00m\n\u001b[1;32m   3816\u001b[0m \u001b[39mif\u001b[39;00m \u001b[39mgetattr\u001b[39m(indexer, \u001b[39m\"\u001b[39m\u001b[39mdtype\u001b[39m\u001b[39m\"\u001b[39m, \u001b[39mNone\u001b[39;00m) \u001b[39m==\u001b[39m \u001b[39mbool\u001b[39m:\n",
      "File \u001b[0;32m~/.local/lib/python3.10/site-packages/pandas/core/indexes/base.py:6070\u001b[0m, in \u001b[0;36mIndex._get_indexer_strict\u001b[0;34m(self, key, axis_name)\u001b[0m\n\u001b[1;32m   6067\u001b[0m \u001b[39melse\u001b[39;00m:\n\u001b[1;32m   6068\u001b[0m     keyarr, indexer, new_indexer \u001b[39m=\u001b[39m \u001b[39mself\u001b[39m\u001b[39m.\u001b[39m_reindex_non_unique(keyarr)\n\u001b[0;32m-> 6070\u001b[0m \u001b[39mself\u001b[39;49m\u001b[39m.\u001b[39;49m_raise_if_missing(keyarr, indexer, axis_name)\n\u001b[1;32m   6072\u001b[0m keyarr \u001b[39m=\u001b[39m \u001b[39mself\u001b[39m\u001b[39m.\u001b[39mtake(indexer)\n\u001b[1;32m   6073\u001b[0m \u001b[39mif\u001b[39;00m \u001b[39misinstance\u001b[39m(key, Index):\n\u001b[1;32m   6074\u001b[0m     \u001b[39m# GH 42790 - Preserve name from an Index\u001b[39;00m\n",
      "File \u001b[0;32m~/.local/lib/python3.10/site-packages/pandas/core/indexes/base.py:6133\u001b[0m, in \u001b[0;36mIndex._raise_if_missing\u001b[0;34m(self, key, indexer, axis_name)\u001b[0m\n\u001b[1;32m   6130\u001b[0m     \u001b[39mraise\u001b[39;00m \u001b[39mKeyError\u001b[39;00m(\u001b[39mf\u001b[39m\u001b[39m\"\u001b[39m\u001b[39mNone of [\u001b[39m\u001b[39m{\u001b[39;00mkey\u001b[39m}\u001b[39;00m\u001b[39m] are in the [\u001b[39m\u001b[39m{\u001b[39;00maxis_name\u001b[39m}\u001b[39;00m\u001b[39m]\u001b[39m\u001b[39m\"\u001b[39m)\n\u001b[1;32m   6132\u001b[0m not_found \u001b[39m=\u001b[39m \u001b[39mlist\u001b[39m(ensure_index(key)[missing_mask\u001b[39m.\u001b[39mnonzero()[\u001b[39m0\u001b[39m]]\u001b[39m.\u001b[39munique())\n\u001b[0;32m-> 6133\u001b[0m \u001b[39mraise\u001b[39;00m \u001b[39mKeyError\u001b[39;00m(\u001b[39mf\u001b[39m\u001b[39m\"\u001b[39m\u001b[39m{\u001b[39;00mnot_found\u001b[39m}\u001b[39;00m\u001b[39m not in index\u001b[39m\u001b[39m\"\u001b[39m)\n",
      "\u001b[0;31mKeyError\u001b[0m: \"['TMIN', 'TMAX'] not in index\""
     ]
    }
   ],
   "source": [
    "station = \"NEW YORK\"\n",
    "allyears = np.arange(1880, 2020)\n",
    "alldata = np.vstack((getweather.getyear(station, ['TMIN','TMAX'], year)\n",
    "                     for year in allyears))"
   ]
  },
  {
   "cell_type": "code",
   "execution_count": 3,
   "metadata": {},
   "outputs": [
    {
     "ename": "KeyError",
     "evalue": "\"['TMIN', 'TMAX'] not in index\"",
     "output_type": "error",
     "traceback": [
      "\u001b[0;31m---------------------------------------------------------------------------\u001b[0m",
      "\u001b[0;31mKeyError\u001b[0m                                  Traceback (most recent call last)",
      "Cell \u001b[0;32mIn[3], line 3\u001b[0m\n\u001b[1;32m      1\u001b[0m \u001b[39m# for records: get TMIN/TMAX arrays for years 1910-2018, stack vertically in array\u001b[39;00m\n\u001b[0;32m----> 3\u001b[0m allyears \u001b[39m=\u001b[39m np\u001b[39m.\u001b[39mvstack([getweather\u001b[39m.\u001b[39mgetyear(\u001b[39m'\u001b[39m\u001b[39mNEW YORK\u001b[39m\u001b[39m'\u001b[39m, [\u001b[39m'\u001b[39m\u001b[39mTMIN\u001b[39m\u001b[39m'\u001b[39m,\u001b[39m'\u001b[39m\u001b[39mTMAX\u001b[39m\u001b[39m'\u001b[39m], year)\n\u001b[1;32m      4\u001b[0m                       \u001b[39mfor\u001b[39;00m year \u001b[39min\u001b[39;00m \u001b[39mrange\u001b[39m(\u001b[39m1910\u001b[39m, \u001b[39m2019\u001b[39m)])\n",
      "Cell \u001b[0;32mIn[3], line 3\u001b[0m, in \u001b[0;36m<listcomp>\u001b[0;34m(.0)\u001b[0m\n\u001b[1;32m      1\u001b[0m \u001b[39m# for records: get TMIN/TMAX arrays for years 1910-2018, stack vertically in array\u001b[39;00m\n\u001b[0;32m----> 3\u001b[0m allyears \u001b[39m=\u001b[39m np\u001b[39m.\u001b[39mvstack([getweather\u001b[39m.\u001b[39;49mgetyear(\u001b[39m'\u001b[39;49m\u001b[39mNEW YORK\u001b[39;49m\u001b[39m'\u001b[39;49m, [\u001b[39m'\u001b[39;49m\u001b[39mTMIN\u001b[39;49m\u001b[39m'\u001b[39;49m,\u001b[39m'\u001b[39;49m\u001b[39mTMAX\u001b[39;49m\u001b[39m'\u001b[39;49m], year)\n\u001b[1;32m      4\u001b[0m                       \u001b[39mfor\u001b[39;00m year \u001b[39min\u001b[39;00m \u001b[39mrange\u001b[39m(\u001b[39m1910\u001b[39m, \u001b[39m2019\u001b[39m)])\n",
      "File \u001b[0;32m/workspaces/ll-advance-python-skills-data-science/Exercise Files/chapter5/getweather.py:173\u001b[0m, in \u001b[0;36mgetyear\u001b[0;34m(station_name, elements, year)\u001b[0m\n\u001b[1;32m    164\u001b[0m \u001b[39mdef\u001b[39;00m \u001b[39mgetyear\u001b[39m(station_name, elements, year):\n\u001b[1;32m    165\u001b[0m \u001b[39m    \u001b[39m\u001b[39m\"\"\"Make a NumPy record array of length 365, containing weather data\u001b[39;00m\n\u001b[1;32m    166\u001b[0m \u001b[39m    at station_name for the list of requested elements (TMIN/TMAX/PRCP/SNOW),\u001b[39;00m\n\u001b[1;32m    167\u001b[0m \u001b[39m    restricted to year.\u001b[39;00m\n\u001b[0;32m   (...)\u001b[0m\n\u001b[1;32m    170\u001b[0m \u001b[39m    with station_name, but give precedence to HCN and GSN stations.\u001b[39;00m\n\u001b[1;32m    171\u001b[0m \u001b[39m    \"\"\"\u001b[39;00m\n\u001b[0;32m--> 173\u001b[0m     alldata \u001b[39m=\u001b[39m getdata(station_name)\n\u001b[1;32m    175\u001b[0m     \u001b[39m# select data by year, and get rid of the extra day in leap years\u001b[39;00m\n\u001b[1;32m    176\u001b[0m     \u001b[39m# then pick out the \"element\" column\u001b[39;00m\n\u001b[1;32m    177\u001b[0m     yeardata \u001b[39m=\u001b[39m alldata[(alldata\u001b[39m.\u001b[39mindex\u001b[39m.\u001b[39myear \u001b[39m==\u001b[39m year) \u001b[39m&\u001b[39m (alldata\u001b[39m.\u001b[39mindex\u001b[39m.\u001b[39mdayofyear \u001b[39m<\u001b[39m \u001b[39m366\u001b[39m)]\n",
      "File \u001b[0;32m/workspaces/ll-advance-python-skills-data-science/Exercise Files/chapter5/getweather.py:154\u001b[0m, in \u001b[0;36mgetdata\u001b[0;34m(station_name)\u001b[0m\n\u001b[1;32m    152\u001b[0m pw \u001b[39m=\u001b[39m pw\u001b[39m.\u001b[39mpivot(index\u001b[39m=\u001b[39m\u001b[39m'\u001b[39m\u001b[39mdate\u001b[39m\u001b[39m'\u001b[39m, columns\u001b[39m=\u001b[39m\u001b[39m'\u001b[39m\u001b[39melement\u001b[39m\u001b[39m'\u001b[39m)[\u001b[39m'\u001b[39m\u001b[39mvalue\u001b[39m\u001b[39m'\u001b[39m]\n\u001b[1;32m    153\u001b[0m pw\u001b[39m.\u001b[39mcolumns\u001b[39m.\u001b[39mname \u001b[39m=\u001b[39m \u001b[39mNone\u001b[39;00m    \n\u001b[0;32m--> 154\u001b[0m pw \u001b[39m=\u001b[39m pw[[\u001b[39m'\u001b[39;49m\u001b[39mTMIN\u001b[39;49m\u001b[39m'\u001b[39;49m,\u001b[39m'\u001b[39;49m\u001b[39mTMAX\u001b[39;49m\u001b[39m'\u001b[39;49m,\u001b[39m'\u001b[39;49m\u001b[39mPRCP\u001b[39;49m\u001b[39m'\u001b[39;49m,\u001b[39m'\u001b[39;49m\u001b[39mSNOW\u001b[39;49m\u001b[39m'\u001b[39;49m]]\n\u001b[1;32m    156\u001b[0m \u001b[39m# last, convert temperatures to degrees\u001b[39;00m\n\u001b[1;32m    157\u001b[0m pw[\u001b[39m'\u001b[39m\u001b[39mTMIN\u001b[39m\u001b[39m'\u001b[39m] \u001b[39m/\u001b[39m\u001b[39m=\u001b[39m \u001b[39m10.0\u001b[39m\n",
      "File \u001b[0;32m~/.local/lib/python3.10/site-packages/pandas/core/frame.py:3813\u001b[0m, in \u001b[0;36mDataFrame.__getitem__\u001b[0;34m(self, key)\u001b[0m\n\u001b[1;32m   3811\u001b[0m     \u001b[39mif\u001b[39;00m is_iterator(key):\n\u001b[1;32m   3812\u001b[0m         key \u001b[39m=\u001b[39m \u001b[39mlist\u001b[39m(key)\n\u001b[0;32m-> 3813\u001b[0m     indexer \u001b[39m=\u001b[39m \u001b[39mself\u001b[39;49m\u001b[39m.\u001b[39;49mcolumns\u001b[39m.\u001b[39;49m_get_indexer_strict(key, \u001b[39m\"\u001b[39;49m\u001b[39mcolumns\u001b[39;49m\u001b[39m\"\u001b[39;49m)[\u001b[39m1\u001b[39m]\n\u001b[1;32m   3815\u001b[0m \u001b[39m# take() does not accept boolean indexers\u001b[39;00m\n\u001b[1;32m   3816\u001b[0m \u001b[39mif\u001b[39;00m \u001b[39mgetattr\u001b[39m(indexer, \u001b[39m\"\u001b[39m\u001b[39mdtype\u001b[39m\u001b[39m\"\u001b[39m, \u001b[39mNone\u001b[39;00m) \u001b[39m==\u001b[39m \u001b[39mbool\u001b[39m:\n",
      "File \u001b[0;32m~/.local/lib/python3.10/site-packages/pandas/core/indexes/base.py:6070\u001b[0m, in \u001b[0;36mIndex._get_indexer_strict\u001b[0;34m(self, key, axis_name)\u001b[0m\n\u001b[1;32m   6067\u001b[0m \u001b[39melse\u001b[39;00m:\n\u001b[1;32m   6068\u001b[0m     keyarr, indexer, new_indexer \u001b[39m=\u001b[39m \u001b[39mself\u001b[39m\u001b[39m.\u001b[39m_reindex_non_unique(keyarr)\n\u001b[0;32m-> 6070\u001b[0m \u001b[39mself\u001b[39;49m\u001b[39m.\u001b[39;49m_raise_if_missing(keyarr, indexer, axis_name)\n\u001b[1;32m   6072\u001b[0m keyarr \u001b[39m=\u001b[39m \u001b[39mself\u001b[39m\u001b[39m.\u001b[39mtake(indexer)\n\u001b[1;32m   6073\u001b[0m \u001b[39mif\u001b[39;00m \u001b[39misinstance\u001b[39m(key, Index):\n\u001b[1;32m   6074\u001b[0m     \u001b[39m# GH 42790 - Preserve name from an Index\u001b[39;00m\n",
      "File \u001b[0;32m~/.local/lib/python3.10/site-packages/pandas/core/indexes/base.py:6133\u001b[0m, in \u001b[0;36mIndex._raise_if_missing\u001b[0;34m(self, key, indexer, axis_name)\u001b[0m\n\u001b[1;32m   6130\u001b[0m     \u001b[39mraise\u001b[39;00m \u001b[39mKeyError\u001b[39;00m(\u001b[39mf\u001b[39m\u001b[39m\"\u001b[39m\u001b[39mNone of [\u001b[39m\u001b[39m{\u001b[39;00mkey\u001b[39m}\u001b[39;00m\u001b[39m] are in the [\u001b[39m\u001b[39m{\u001b[39;00maxis_name\u001b[39m}\u001b[39;00m\u001b[39m]\u001b[39m\u001b[39m\"\u001b[39m)\n\u001b[1;32m   6132\u001b[0m not_found \u001b[39m=\u001b[39m \u001b[39mlist\u001b[39m(ensure_index(key)[missing_mask\u001b[39m.\u001b[39mnonzero()[\u001b[39m0\u001b[39m]]\u001b[39m.\u001b[39munique())\n\u001b[0;32m-> 6133\u001b[0m \u001b[39mraise\u001b[39;00m \u001b[39mKeyError\u001b[39;00m(\u001b[39mf\u001b[39m\u001b[39m\"\u001b[39m\u001b[39m{\u001b[39;00mnot_found\u001b[39m}\u001b[39;00m\u001b[39m not in index\u001b[39m\u001b[39m\"\u001b[39m)\n",
      "\u001b[0;31mKeyError\u001b[0m: \"['TMIN', 'TMAX'] not in index\""
     ]
    }
   ],
   "source": [
    "# for records: get TMIN/TMAX arrays for years 1910-2018, stack vertically in array\n",
    "\n",
    "allyears = np.vstack([getweather.getyear('NEW YORK', ['TMIN','TMAX'], year)\n",
    "                      for year in range(1910, 2019)])"
   ]
  },
  {
   "cell_type": "code",
   "execution_count": null,
   "metadata": {},
   "outputs": [],
   "source": []
  }
 ],
 "metadata": {
  "kernelspec": {
   "display_name": "Python 3",
   "language": "python",
   "name": "python3"
  },
  "language_info": {
   "codemirror_mode": {
    "name": "ipython",
    "version": 3
   },
   "file_extension": ".py",
   "mimetype": "text/x-python",
   "name": "python",
   "nbconvert_exporter": "python",
   "pygments_lexer": "ipython3",
   "version": "3.10.4"
  },
  "orig_nbformat": 4,
  "vscode": {
   "interpreter": {
    "hash": "3ad933181bd8a04b432d3370b9dc3b0662ad032c4dfaa4e4f1596c548f763858"
   }
  }
 },
 "nbformat": 4,
 "nbformat_minor": 2
}
