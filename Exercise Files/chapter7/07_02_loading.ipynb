{
 "cells": [
  {
   "cell_type": "markdown",
   "metadata": {},
   "source": [
    "# 07_02: Loading Baby Names"
   ]
  },
  {
   "cell_type": "code",
   "execution_count": null,
   "metadata": {},
   "outputs": [],
   "source": [
    "# note: this notebook requires Python 3.6 or higher"
   ]
  },
  {
   "cell_type": "code",
   "execution_count": 1,
   "metadata": {},
   "outputs": [],
   "source": [
    "import math\n",
    "import collections\n",
    "\n",
    "import numpy as np\n",
    "import pandas as pd\n",
    "import matplotlib.pyplot as pp\n",
    "\n",
    "%matplotlib inline"
   ]
  },
  {
   "cell_type": "code",
   "execution_count": 2,
   "metadata": {},
   "outputs": [],
   "source": [
    "pd.options.display.max_rows = 8"
   ]
  },
  {
   "cell_type": "code",
   "execution_count": 3,
   "metadata": {},
   "outputs": [],
   "source": [
    "import zipfile"
   ]
  },
  {
   "cell_type": "code",
   "execution_count": 4,
   "metadata": {},
   "outputs": [],
   "source": [
    "zipfile.ZipFile('names.zip').extractall('.')"
   ]
  },
  {
   "cell_type": "code",
   "execution_count": 5,
   "metadata": {},
   "outputs": [
    {
     "name": "stdout",
     "output_type": "stream",
     "text": [
      "07_02_loading.ipynb     07_04_topten.ipynb    \u001b[0m\u001b[34;42mnames\u001b[0m/\n",
      "07_03_popularity.ipynb  07_06_solution.ipynb  names.zip\n"
     ]
    }
   ],
   "source": [
    "ls"
   ]
  },
  {
   "cell_type": "code",
   "execution_count": 6,
   "metadata": {},
   "outputs": [
    {
     "name": "stdout",
     "output_type": "stream",
     "text": [
      "NationalReadMe.pdf  yob1907.txt  yob1935.txt  yob1963.txt  yob1991.txt\n",
      "yob1880.txt         yob1908.txt  yob1936.txt  yob1964.txt  yob1992.txt\n",
      "yob1881.txt         yob1909.txt  yob1937.txt  yob1965.txt  yob1993.txt\n",
      "yob1882.txt         yob1910.txt  yob1938.txt  yob1966.txt  yob1994.txt\n",
      "yob1883.txt         yob1911.txt  yob1939.txt  yob1967.txt  yob1995.txt\n",
      "yob1884.txt         yob1912.txt  yob1940.txt  yob1968.txt  yob1996.txt\n",
      "yob1885.txt         yob1913.txt  yob1941.txt  yob1969.txt  yob1997.txt\n",
      "yob1886.txt         yob1914.txt  yob1942.txt  yob1970.txt  yob1998.txt\n",
      "yob1887.txt         yob1915.txt  yob1943.txt  yob1971.txt  yob1999.txt\n",
      "yob1888.txt         yob1916.txt  yob1944.txt  yob1972.txt  yob2000.txt\n",
      "yob1889.txt         yob1917.txt  yob1945.txt  yob1973.txt  yob2001.txt\n",
      "yob1890.txt         yob1918.txt  yob1946.txt  yob1974.txt  yob2002.txt\n",
      "yob1891.txt         yob1919.txt  yob1947.txt  yob1975.txt  yob2003.txt\n",
      "yob1892.txt         yob1920.txt  yob1948.txt  yob1976.txt  yob2004.txt\n",
      "yob1893.txt         yob1921.txt  yob1949.txt  yob1977.txt  yob2005.txt\n",
      "yob1894.txt         yob1922.txt  yob1950.txt  yob1978.txt  yob2006.txt\n",
      "yob1895.txt         yob1923.txt  yob1951.txt  yob1979.txt  yob2007.txt\n",
      "yob1896.txt         yob1924.txt  yob1952.txt  yob1980.txt  yob2008.txt\n",
      "yob1897.txt         yob1925.txt  yob1953.txt  yob1981.txt  yob2009.txt\n",
      "yob1898.txt         yob1926.txt  yob1954.txt  yob1982.txt  yob2010.txt\n",
      "yob1899.txt         yob1927.txt  yob1955.txt  yob1983.txt  yob2011.txt\n",
      "yob1900.txt         yob1928.txt  yob1956.txt  yob1984.txt  yob2012.txt\n",
      "yob1901.txt         yob1929.txt  yob1957.txt  yob1985.txt  yob2013.txt\n",
      "yob1902.txt         yob1930.txt  yob1958.txt  yob1986.txt  yob2014.txt\n",
      "yob1903.txt         yob1931.txt  yob1959.txt  yob1987.txt  yob2015.txt\n",
      "yob1904.txt         yob1932.txt  yob1960.txt  yob1988.txt  yob2016.txt\n",
      "yob1905.txt         yob1933.txt  yob1961.txt  yob1989.txt  yob2017.txt\n",
      "yob1906.txt         yob1934.txt  yob1962.txt  yob1990.txt  yob2018.txt\n"
     ]
    }
   ],
   "source": [
    "ls names"
   ]
  },
  {
   "cell_type": "code",
   "execution_count": 7,
   "metadata": {},
   "outputs": [
    {
     "data": {
      "text/plain": [
       "['Sophia,F,21842\\n',\n",
       " 'Isabella,F,19910\\n',\n",
       " 'Emma,F,18803\\n',\n",
       " 'Olivia,F,17322\\n',\n",
       " 'Ava,F,15503\\n',\n",
       " 'Emily,F,14258\\n',\n",
       " 'Abigail,F,13248\\n',\n",
       " 'Madison,F,12389\\n',\n",
       " 'Mia,F,11530\\n',\n",
       " 'Chloe,F,10991\\n']"
      ]
     },
     "execution_count": 7,
     "metadata": {},
     "output_type": "execute_result"
    }
   ],
   "source": [
    "open('names/yob2011.txt','r').readlines()[:10]"
   ]
  },
  {
   "cell_type": "code",
   "execution_count": 8,
   "metadata": {},
   "outputs": [
    {
     "data": {
      "text/html": [
       "<div>\n",
       "<style scoped>\n",
       "    .dataframe tbody tr th:only-of-type {\n",
       "        vertical-align: middle;\n",
       "    }\n",
       "\n",
       "    .dataframe tbody tr th {\n",
       "        vertical-align: top;\n",
       "    }\n",
       "\n",
       "    .dataframe thead th {\n",
       "        text-align: right;\n",
       "    }\n",
       "</style>\n",
       "<table border=\"1\" class=\"dataframe\">\n",
       "  <thead>\n",
       "    <tr style=\"text-align: right;\">\n",
       "      <th></th>\n",
       "      <th>Sophia</th>\n",
       "      <th>F</th>\n",
       "      <th>21842</th>\n",
       "    </tr>\n",
       "  </thead>\n",
       "  <tbody>\n",
       "    <tr>\n",
       "      <th>0</th>\n",
       "      <td>Isabella</td>\n",
       "      <td>F</td>\n",
       "      <td>19910</td>\n",
       "    </tr>\n",
       "    <tr>\n",
       "      <th>1</th>\n",
       "      <td>Emma</td>\n",
       "      <td>F</td>\n",
       "      <td>18803</td>\n",
       "    </tr>\n",
       "    <tr>\n",
       "      <th>2</th>\n",
       "      <td>Olivia</td>\n",
       "      <td>F</td>\n",
       "      <td>17322</td>\n",
       "    </tr>\n",
       "    <tr>\n",
       "      <th>3</th>\n",
       "      <td>Ava</td>\n",
       "      <td>F</td>\n",
       "      <td>15503</td>\n",
       "    </tr>\n",
       "    <tr>\n",
       "      <th>...</th>\n",
       "      <td>...</td>\n",
       "      <td>...</td>\n",
       "      <td>...</td>\n",
       "    </tr>\n",
       "    <tr>\n",
       "      <th>33903</th>\n",
       "      <td>Zylas</td>\n",
       "      <td>M</td>\n",
       "      <td>5</td>\n",
       "    </tr>\n",
       "    <tr>\n",
       "      <th>33904</th>\n",
       "      <td>Zyran</td>\n",
       "      <td>M</td>\n",
       "      <td>5</td>\n",
       "    </tr>\n",
       "    <tr>\n",
       "      <th>33905</th>\n",
       "      <td>Zyshawn</td>\n",
       "      <td>M</td>\n",
       "      <td>5</td>\n",
       "    </tr>\n",
       "    <tr>\n",
       "      <th>33906</th>\n",
       "      <td>Zytavion</td>\n",
       "      <td>M</td>\n",
       "      <td>5</td>\n",
       "    </tr>\n",
       "  </tbody>\n",
       "</table>\n",
       "<p>33907 rows × 3 columns</p>\n",
       "</div>"
      ],
      "text/plain": [
       "         Sophia  F  21842\n",
       "0      Isabella  F  19910\n",
       "1          Emma  F  18803\n",
       "2        Olivia  F  17322\n",
       "3           Ava  F  15503\n",
       "...         ... ..    ...\n",
       "33903     Zylas  M      5\n",
       "33904     Zyran  M      5\n",
       "33905   Zyshawn  M      5\n",
       "33906  Zytavion  M      5\n",
       "\n",
       "[33907 rows x 3 columns]"
      ]
     },
     "execution_count": 8,
     "metadata": {},
     "output_type": "execute_result"
    }
   ],
   "source": [
    "pd.read_csv('names/yob2011.txt')"
   ]
  },
  {
   "cell_type": "code",
   "execution_count": 9,
   "metadata": {},
   "outputs": [
    {
     "data": {
      "text/html": [
       "<div>\n",
       "<style scoped>\n",
       "    .dataframe tbody tr th:only-of-type {\n",
       "        vertical-align: middle;\n",
       "    }\n",
       "\n",
       "    .dataframe tbody tr th {\n",
       "        vertical-align: top;\n",
       "    }\n",
       "\n",
       "    .dataframe thead th {\n",
       "        text-align: right;\n",
       "    }\n",
       "</style>\n",
       "<table border=\"1\" class=\"dataframe\">\n",
       "  <thead>\n",
       "    <tr style=\"text-align: right;\">\n",
       "      <th></th>\n",
       "      <th>name</th>\n",
       "      <th>sex</th>\n",
       "      <th>number</th>\n",
       "    </tr>\n",
       "  </thead>\n",
       "  <tbody>\n",
       "    <tr>\n",
       "      <th>0</th>\n",
       "      <td>Sophia</td>\n",
       "      <td>F</td>\n",
       "      <td>21842</td>\n",
       "    </tr>\n",
       "    <tr>\n",
       "      <th>1</th>\n",
       "      <td>Isabella</td>\n",
       "      <td>F</td>\n",
       "      <td>19910</td>\n",
       "    </tr>\n",
       "    <tr>\n",
       "      <th>2</th>\n",
       "      <td>Emma</td>\n",
       "      <td>F</td>\n",
       "      <td>18803</td>\n",
       "    </tr>\n",
       "    <tr>\n",
       "      <th>3</th>\n",
       "      <td>Olivia</td>\n",
       "      <td>F</td>\n",
       "      <td>17322</td>\n",
       "    </tr>\n",
       "    <tr>\n",
       "      <th>...</th>\n",
       "      <td>...</td>\n",
       "      <td>...</td>\n",
       "      <td>...</td>\n",
       "    </tr>\n",
       "    <tr>\n",
       "      <th>33904</th>\n",
       "      <td>Zylas</td>\n",
       "      <td>M</td>\n",
       "      <td>5</td>\n",
       "    </tr>\n",
       "    <tr>\n",
       "      <th>33905</th>\n",
       "      <td>Zyran</td>\n",
       "      <td>M</td>\n",
       "      <td>5</td>\n",
       "    </tr>\n",
       "    <tr>\n",
       "      <th>33906</th>\n",
       "      <td>Zyshawn</td>\n",
       "      <td>M</td>\n",
       "      <td>5</td>\n",
       "    </tr>\n",
       "    <tr>\n",
       "      <th>33907</th>\n",
       "      <td>Zytavion</td>\n",
       "      <td>M</td>\n",
       "      <td>5</td>\n",
       "    </tr>\n",
       "  </tbody>\n",
       "</table>\n",
       "<p>33908 rows × 3 columns</p>\n",
       "</div>"
      ],
      "text/plain": [
       "           name sex  number\n",
       "0        Sophia   F   21842\n",
       "1      Isabella   F   19910\n",
       "2          Emma   F   18803\n",
       "3        Olivia   F   17322\n",
       "...         ...  ..     ...\n",
       "33904     Zylas   M       5\n",
       "33905     Zyran   M       5\n",
       "33906   Zyshawn   M       5\n",
       "33907  Zytavion   M       5\n",
       "\n",
       "[33908 rows x 3 columns]"
      ]
     },
     "execution_count": 9,
     "metadata": {},
     "output_type": "execute_result"
    }
   ],
   "source": [
    "pd.read_csv('names/yob2011.txt', names=['name','sex','number'])"
   ]
  },
  {
   "cell_type": "code",
   "execution_count": 10,
   "metadata": {},
   "outputs": [
    {
     "data": {
      "text/html": [
       "<div>\n",
       "<style scoped>\n",
       "    .dataframe tbody tr th:only-of-type {\n",
       "        vertical-align: middle;\n",
       "    }\n",
       "\n",
       "    .dataframe tbody tr th {\n",
       "        vertical-align: top;\n",
       "    }\n",
       "\n",
       "    .dataframe thead th {\n",
       "        text-align: right;\n",
       "    }\n",
       "</style>\n",
       "<table border=\"1\" class=\"dataframe\">\n",
       "  <thead>\n",
       "    <tr style=\"text-align: right;\">\n",
       "      <th></th>\n",
       "      <th>name</th>\n",
       "      <th>sex</th>\n",
       "      <th>number</th>\n",
       "      <th>year</th>\n",
       "    </tr>\n",
       "  </thead>\n",
       "  <tbody>\n",
       "    <tr>\n",
       "      <th>0</th>\n",
       "      <td>Sophia</td>\n",
       "      <td>F</td>\n",
       "      <td>21842</td>\n",
       "      <td>2011</td>\n",
       "    </tr>\n",
       "    <tr>\n",
       "      <th>1</th>\n",
       "      <td>Isabella</td>\n",
       "      <td>F</td>\n",
       "      <td>19910</td>\n",
       "      <td>2011</td>\n",
       "    </tr>\n",
       "    <tr>\n",
       "      <th>2</th>\n",
       "      <td>Emma</td>\n",
       "      <td>F</td>\n",
       "      <td>18803</td>\n",
       "      <td>2011</td>\n",
       "    </tr>\n",
       "    <tr>\n",
       "      <th>3</th>\n",
       "      <td>Olivia</td>\n",
       "      <td>F</td>\n",
       "      <td>17322</td>\n",
       "      <td>2011</td>\n",
       "    </tr>\n",
       "    <tr>\n",
       "      <th>...</th>\n",
       "      <td>...</td>\n",
       "      <td>...</td>\n",
       "      <td>...</td>\n",
       "      <td>...</td>\n",
       "    </tr>\n",
       "    <tr>\n",
       "      <th>33904</th>\n",
       "      <td>Zylas</td>\n",
       "      <td>M</td>\n",
       "      <td>5</td>\n",
       "      <td>2011</td>\n",
       "    </tr>\n",
       "    <tr>\n",
       "      <th>33905</th>\n",
       "      <td>Zyran</td>\n",
       "      <td>M</td>\n",
       "      <td>5</td>\n",
       "      <td>2011</td>\n",
       "    </tr>\n",
       "    <tr>\n",
       "      <th>33906</th>\n",
       "      <td>Zyshawn</td>\n",
       "      <td>M</td>\n",
       "      <td>5</td>\n",
       "      <td>2011</td>\n",
       "    </tr>\n",
       "    <tr>\n",
       "      <th>33907</th>\n",
       "      <td>Zytavion</td>\n",
       "      <td>M</td>\n",
       "      <td>5</td>\n",
       "      <td>2011</td>\n",
       "    </tr>\n",
       "  </tbody>\n",
       "</table>\n",
       "<p>33908 rows × 4 columns</p>\n",
       "</div>"
      ],
      "text/plain": [
       "           name sex  number  year\n",
       "0        Sophia   F   21842  2011\n",
       "1      Isabella   F   19910  2011\n",
       "2          Emma   F   18803  2011\n",
       "3        Olivia   F   17322  2011\n",
       "...         ...  ..     ...   ...\n",
       "33904     Zylas   M       5  2011\n",
       "33905     Zyran   M       5  2011\n",
       "33906   Zyshawn   M       5  2011\n",
       "33907  Zytavion   M       5  2011\n",
       "\n",
       "[33908 rows x 4 columns]"
      ]
     },
     "execution_count": 10,
     "metadata": {},
     "output_type": "execute_result"
    }
   ],
   "source": [
    "# load CSV file as DataFrame, then create a new column \"year\" with all elements set to 2011\n",
    "pd.read_csv('names/yob2011.txt', names=['name','sex','number']).assign(year=2011)"
   ]
  },
  {
   "cell_type": "code",
   "execution_count": 12,
   "metadata": {},
   "outputs": [],
   "source": [
    "# for each year in 1880-2018, load the corresponding CSV file names/yobXXXX.txt\n",
    "# as DataFrame, create new column \"year\" with all elements set to loop variable,\n",
    "# then concatenate all DataFrames into a single one\n",
    "allyears = pd.concat(pd.read_csv(f'names/yob{year}.txt',\n",
    "                                 names=['name','sex','number']).assign(year=year)\n",
    "                     for year in range(1880, 2019))"
   ]
  },
  {
   "cell_type": "code",
   "execution_count": 13,
   "metadata": {},
   "outputs": [
    {
     "name": "stdout",
     "output_type": "stream",
     "text": [
      "<class 'pandas.core.frame.DataFrame'>\n",
      "Int64Index: 1957046 entries, 0 to 32032\n",
      "Data columns (total 4 columns):\n",
      " #   Column  Dtype \n",
      "---  ------  ----- \n",
      " 0   name    object\n",
      " 1   sex     object\n",
      " 2   number  int64 \n",
      " 3   year    int64 \n",
      "dtypes: int64(2), object(2)\n",
      "memory usage: 74.7+ MB\n"
     ]
    }
   ],
   "source": [
    "allyears.info()"
   ]
  },
  {
   "cell_type": "code",
   "execution_count": 14,
   "metadata": {},
   "outputs": [
    {
     "data": {
      "text/plain": [
       "(1880, 2018)"
      ]
     },
     "execution_count": 14,
     "metadata": {},
     "output_type": "execute_result"
    }
   ],
   "source": [
    "allyears.year.min(), allyears.year.max()"
   ]
  },
  {
   "cell_type": "code",
   "execution_count": 15,
   "metadata": {},
   "outputs": [],
   "source": [
    "# save DataFrame to compressed CSV file, dropping uninteresting index\n",
    "allyears.to_csv('allyears.csv.gz', index=False)"
   ]
  }
 ],
 "metadata": {
  "kernelspec": {
   "display_name": "Python 3",
   "language": "python",
   "name": "python3"
  },
  "language_info": {
   "codemirror_mode": {
    "name": "ipython",
    "version": 3
   },
   "file_extension": ".py",
   "mimetype": "text/x-python",
   "name": "python",
   "nbconvert_exporter": "python",
   "pygments_lexer": "ipython3",
   "version": "3.10.4"
  },
  "vscode": {
   "interpreter": {
    "hash": "3ad933181bd8a04b432d3370b9dc3b0662ad032c4dfaa4e4f1596c548f763858"
   }
  }
 },
 "nbformat": 4,
 "nbformat_minor": 2
}
